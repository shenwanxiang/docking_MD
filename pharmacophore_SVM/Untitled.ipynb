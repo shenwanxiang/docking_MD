{
 "cells": [
  {
   "cell_type": "code",
   "execution_count": 2,
   "id": "35136688",
   "metadata": {},
   "outputs": [
    {
     "ename": "ModuleNotFoundError",
     "evalue": "No module named 'openforcefield'",
     "output_type": "error",
     "traceback": [
      "\u001b[0;31m---------------------------------------------------------------------------\u001b[0m",
      "\u001b[0;31mModuleNotFoundError\u001b[0m                       Traceback (most recent call last)",
      "\u001b[0;32m<ipython-input-2-5b4ecaf8736a>\u001b[0m in \u001b[0;36m<module>\u001b[0;34m\u001b[0m\n\u001b[0;32m----> 1\u001b[0;31m \u001b[0;32mfrom\u001b[0m \u001b[0mopenforcefield\u001b[0m\u001b[0;34m.\u001b[0m\u001b[0mtopology\u001b[0m \u001b[0;32mimport\u001b[0m \u001b[0mMolecule\u001b[0m\u001b[0;34m\u001b[0m\u001b[0;34m\u001b[0m\u001b[0m\n\u001b[0m\u001b[1;32m      2\u001b[0m \u001b[0;32mfrom\u001b[0m \u001b[0mopenmmforcefields\u001b[0m\u001b[0;34m.\u001b[0m\u001b[0mgenerators\u001b[0m \u001b[0;32mimport\u001b[0m \u001b[0mGAFFTemplateGenerator\u001b[0m\u001b[0;34m\u001b[0m\u001b[0;34m\u001b[0m\u001b[0m\n\u001b[1;32m      3\u001b[0m \u001b[0;32mfrom\u001b[0m \u001b[0msimtk\u001b[0m\u001b[0;34m.\u001b[0m\u001b[0mopenmm\u001b[0m\u001b[0;34m.\u001b[0m\u001b[0mapp\u001b[0m \u001b[0;32mimport\u001b[0m \u001b[0mForceField\u001b[0m\u001b[0;34m\u001b[0m\u001b[0;34m\u001b[0m\u001b[0m\n\u001b[1;32m      4\u001b[0m \u001b[0mget_ipython\u001b[0m\u001b[0;34m(\u001b[0m\u001b[0;34m)\u001b[0m\u001b[0;34m.\u001b[0m\u001b[0mrun_line_magic\u001b[0m\u001b[0;34m(\u001b[0m\u001b[0;34m'config'\u001b[0m\u001b[0;34m,\u001b[0m \u001b[0;34m'Completer.use_jedi = False'\u001b[0m\u001b[0;34m)\u001b[0m\u001b[0;34m\u001b[0m\u001b[0;34m\u001b[0m\u001b[0m\n\u001b[1;32m      5\u001b[0m \u001b[0;34m\u001b[0m\u001b[0m\n",
      "\u001b[0;31mModuleNotFoundError\u001b[0m: No module named 'openforcefield'"
     ]
    }
   ],
   "source": [
    "from openforcefield.topology import Molecule\n",
    "from openmmforcefields.generators import GAFFTemplateGenerator\n",
    "from simtk.openmm.app import ForceField\n",
    "%config Completer.use_jedi = False\n",
    "\n"
   ]
  },
  {
   "cell_type": "code",
   "execution_count": null,
   "id": "5c679090",
   "metadata": {},
   "outputs": [],
   "source": [
    "\n",
    "molecule = Molecule.from_file('./data/PDB/5y.pdb')\n",
    "gaff = GAFFTemplateGenerator(molecules=molecule)\n",
    "forcefield = ForceField('amber/protein.ff14SB.xml', 'amber/tip3p_standard.xml')\n",
    "forcefield.registerTemplateGenerator(gaff.generator)\n",
    "\n",
    "#and after registering this template generator to your forcefield, the following should work:\n",
    "\n",
    "pdbfile = PDBFile('complex.pdb')\n",
    "system = forcefield.createSystem(pdbfile.topology)"
   ]
  },
  {
   "cell_type": "code",
   "execution_count": 3,
   "id": "132a980b",
   "metadata": {},
   "outputs": [
    {
     "name": "stdout",
     "output_type": "stream",
     "text": [
      "Solving environment: failed\n",
      "\n",
      "UnsatisfiableError: The following specifications were found to be in conflict:\n",
      "  - openmmforcefields -> ambertools[version='>=20.0'] -> _openmp_mutex[version='>=4.5'] -> llvm-openmp[version='>=9.0.1'] -> openmp[version='10.0.0|10.0.0.*']\n",
      "  - openmmforcefields -> ambertools[version='>=20.0'] -> _openmp_mutex[version='>=4.5'] -> openmp_impl==9999\n",
      "  - openmmforcefields -> ambertools[version='>=20.0'] -> boost-cpp[version='>=1.72.0,<1.72.1.0a0'] -> icu[version='>=68.1,<69.0a0']\n",
      "  - openmmforcefields -> ambertools[version='>=20.0'] -> boost-cpp[version='>=1.72.0,<1.72.1.0a0'] -> libboost[version='<0']\n",
      "  - openmmforcefields -> ambertools[version='>=20.0'] -> boost-cpp[version='>=1.72.0,<1.72.1.0a0'] -> zstd[version='>=1.5.0,<1.6.0a0']\n",
      "  - openmmforcefields -> ambertools[version='>=20.0'] -> parmed[version='>=3.3.0,<4.0.0a'] -> pypy3.6[version='>=7.3.3'] -> pypy3.5==99999999999\n",
      "  - openmmforcefields -> ambertools[version='>=20.0'] -> parmed[version='>=3.3.0,<4.0.0a'] -> pypy3.6[version='>=7.3.3'] -> pypy3.7==99999999999\n",
      "  - openmmforcefields -> ambertools[version='>=20.0'] -> python_abi=3.6[build=*_cp36m] -> pypy[version='<0a0']\n",
      "  - openmmforcefields -> openff-toolkit[version='>=0.9.0'] -> openmm -> __glibc[version='>=2.17']\n",
      "  - py-boost\n",
      "Use \"conda info <package>\" to see the dependencies for each package.\n",
      "\n"
     ]
    }
   ],
   "source": [
    "! conda install -c conda-forge openmmforcefields"
   ]
  },
  {
   "cell_type": "code",
   "execution_count": null,
   "id": "7822cc97",
   "metadata": {},
   "outputs": [],
   "source": []
  },
  {
   "cell_type": "code",
   "execution_count": null,
   "id": "72e966db",
   "metadata": {},
   "outputs": [],
   "source": []
  }
 ],
 "metadata": {
  "kernelspec": {
   "display_name": "Python 3",
   "language": "python",
   "name": "python3"
  },
  "language_info": {
   "codemirror_mode": {
    "name": "ipython",
    "version": 3
   },
   "file_extension": ".py",
   "mimetype": "text/x-python",
   "name": "python",
   "nbconvert_exporter": "python",
   "pygments_lexer": "ipython3",
   "version": "3.6.10"
  }
 },
 "nbformat": 4,
 "nbformat_minor": 5
}
