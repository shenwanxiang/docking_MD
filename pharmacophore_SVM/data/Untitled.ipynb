{
 "cells": [
  {
   "cell_type": "code",
   "execution_count": 1,
   "id": "48a8eb2c",
   "metadata": {},
   "outputs": [
    {
     "name": "stdout",
     "output_type": "stream",
     "text": [
      "Archive:  PDB.zip\n",
      "   creating: PDB/\n",
      "  inflating: PDB/1fm6.pdb            \n",
      "  inflating: PDB/1i7i.pdb            \n",
      "  inflating: PDB/2prg.pdb            \n",
      "  inflating: PDB/3t03.pdb            \n",
      "  inflating: PDB/4prg.pdb            \n",
      "  inflating: PDB/5y2o.pdb            \n",
      "  inflating: PDB/BBR_ideal.pdb       \n",
      "  inflating: PDB/PIO_ideal.pdb       \n"
     ]
    }
   ],
   "source": [
    "! unzip PDB.zip"
   ]
  },
  {
   "cell_type": "code",
   "execution_count": null,
   "id": "bb6f1807",
   "metadata": {},
   "outputs": [],
   "source": []
  }
 ],
 "metadata": {
  "kernelspec": {
   "display_name": "Python 3",
   "language": "python",
   "name": "python3"
  },
  "language_info": {
   "codemirror_mode": {
    "name": "ipython",
    "version": 3
   },
   "file_extension": ".py",
   "mimetype": "text/x-python",
   "name": "python",
   "nbconvert_exporter": "python",
   "pygments_lexer": "ipython3",
   "version": "3.6.10"
  }
 },
 "nbformat": 4,
 "nbformat_minor": 5
}
