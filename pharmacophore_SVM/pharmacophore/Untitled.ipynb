{
 "cells": [
  {
   "cell_type": "code",
   "execution_count": 17,
   "id": "6c4d422e",
   "metadata": {},
   "outputs": [],
   "source": [
    "import sys,string\n",
    "from rdkit.Chem import AllChem as Chem\n",
    "from optparse import OptionParser\n",
    "\n",
    "#convert smiles to sdf\n",
    "def getRMS(mol, c1,c2):\n",
    "    (rms,trans) = Chem.GetAlignmentTransform(mol,mol,c1,c2)\n",
    "    return rms\n"
   ]
  },
  {
   "cell_type": "code",
   "execution_count": 22,
   "id": "19533770",
   "metadata": {},
   "outputs": [],
   "source": [
    "input = 'mol.smiles'\n",
    "output = 'smifile = open(input)'\n",
    "smifile = open(input)\n",
    "for line in smifile:\n",
    "    toks = line.split(',')\n",
    "    smi = toks[0]\n",
    "    name = \"\".join(toks[1:])    \n",
    "    mol = Chem.MolFromSmiles(smi)"
   ]
  },
  {
   "cell_type": "code",
   "execution_count": 23,
   "id": "260065b2",
   "metadata": {},
   "outputs": [
    {
     "data": {
      "text/plain": [
       "'c'"
      ]
     },
     "execution_count": 23,
     "metadata": {},
     "output_type": "execute_result"
    }
   ],
   "source": [
    "name"
   ]
  },
  {
   "cell_type": "code",
   "execution_count": 21,
   "id": "973bf92a",
   "metadata": {},
   "outputs": [
    {
     "data": {
      "text/plain": [
       "<module 'string' from '/home/shenwanxiang/anaconda3/envs/tf2/lib/python3.6/string.py'>"
      ]
     },
     "execution_count": 21,
     "metadata": {},
     "output_type": "execute_result"
    }
   ],
   "source": [
    "string"
   ]
  },
  {
   "cell_type": "code",
   "execution_count": null,
   "id": "76e32865",
   "metadata": {},
   "outputs": [],
   "source": []
  },
  {
   "cell_type": "code",
   "execution_count": 5,
   "id": "eac197c0",
   "metadata": {},
   "outputs": [
    {
     "ename": "NameError",
     "evalue": "name 'smifile' is not defined",
     "output_type": "error",
     "traceback": [
      "\u001b[0;31m---------------------------------------------------------------------------\u001b[0m",
      "\u001b[0;31mNameError\u001b[0m                                 Traceback (most recent call last)",
      "\u001b[0;32m<ipython-input-5-00512a4ed6c4>\u001b[0m in \u001b[0;36m<module>\u001b[0;34m\u001b[0m\n\u001b[1;32m     12\u001b[0m     \u001b[0msys\u001b[0m\u001b[0;34m.\u001b[0m\u001b[0mexit\u001b[0m\u001b[0;34m(\u001b[0m\u001b[0;34m-\u001b[0m\u001b[0;36m1\u001b[0m\u001b[0;34m)\u001b[0m\u001b[0;34m\u001b[0m\u001b[0;34m\u001b[0m\u001b[0m\n\u001b[1;32m     13\u001b[0m \u001b[0;34m\u001b[0m\u001b[0m\n\u001b[0;32m---> 14\u001b[0;31m \u001b[0;32mfor\u001b[0m \u001b[0mline\u001b[0m \u001b[0;32min\u001b[0m \u001b[0msmifile\u001b[0m\u001b[0;34m:\u001b[0m\u001b[0;34m\u001b[0m\u001b[0;34m\u001b[0m\u001b[0m\n\u001b[0m\u001b[1;32m     15\u001b[0m     \u001b[0mtoks\u001b[0m \u001b[0;34m=\u001b[0m \u001b[0mline\u001b[0m\u001b[0;34m.\u001b[0m\u001b[0msplit\u001b[0m\u001b[0;34m(\u001b[0m\u001b[0;34m)\u001b[0m\u001b[0;34m\u001b[0m\u001b[0;34m\u001b[0m\u001b[0m\n\u001b[1;32m     16\u001b[0m     \u001b[0msmi\u001b[0m \u001b[0;34m=\u001b[0m \u001b[0mtoks\u001b[0m\u001b[0;34m[\u001b[0m\u001b[0;36m0\u001b[0m\u001b[0;34m]\u001b[0m\u001b[0;34m\u001b[0m\u001b[0;34m\u001b[0m\u001b[0m\n",
      "\u001b[0;31mNameError\u001b[0m: name 'smifile' is not defined"
     ]
    }
   ],
   "source": [
    "\n",
    "\n",
    "# if options.verbose:\n",
    "#     print(\"Generating a maximum of\",options.maxconfs,\"per a mol\")\n",
    "    \n",
    "\n",
    "sdwriter = Chem.SDWriter(output)\n",
    "if sdwriter is None:\n",
    "    print(\"Could not open \".output)\n",
    "    sys.exit(-1)\n",
    "    \n",
    "for line in smifile:\n",
    "    toks = line.split()\n",
    "    smi = toks[0]\n",
    "    name = string.join(toks[1:])    \n",
    "    mol = Chem.MolFromSmiles(smi)\n",
    "    if mol is not None:\n",
    "        if options.verbose:\n",
    "            print(smi)\n",
    "        try:\n",
    "            Chem.SanitizeMol(mol)\n",
    "            mol.SetProp(\"_Name\",name);\n",
    "            cids = Chem.EmbedMultipleConfs(mol, int(options.sample*options.maxconfs),randomSeed=options.seed)\n",
    "            if options.verbose:\n",
    "                print(len(cids),\"conformers found\" )\n",
    "            cenergy = []            \n",
    "            for conf in cids:\n",
    "                #not passing confID only minimizes the first conformer\n",
    "                converged = not Chem.UFFOptimizeMolecule(mol,confId=conf)\n",
    "                if options.verbose:\n",
    "                    print(\"Convergence of conformer\",conf,converged)\n",
    "                cenergy.append(Chem.UFFGetMoleculeForceField(mol,confId=conf).CalcEnergy())\n",
    "            \n",
    "            sortedcids = sorted(cids,key = lambda cid: cenergy[cid])\n",
    "            if(options.rms == 0):\n",
    "                cnt = 0;\n",
    "                for conf in sortedcids:\n",
    "                    if(cnt >= options.maxconfs):\n",
    "                        break\n",
    "                    if(options.energy < 0) or cenergy[conf]-cenergy[0] <= options.energy:\n",
    "                        sdwriter.write(mol,conf)\n",
    "                        cnt+=1 \n",
    "            else:\n",
    "                written = {}\n",
    "                for conf in sortedcids:\n",
    "                    if len(written) >= options.maxconfs:\n",
    "                        break\n",
    "                    #check rmsd\n",
    "                    passed = True\n",
    "                    for seenconf in written.iterkeys():\n",
    "                        rms = getRMS(mol,seenconf,conf) \n",
    "                        if(rms < options.rms) or (options.energy > 0 and cenergy[conf]-cenergy[0] > options.energy):\n",
    "                            passed = False\n",
    "                            break\n",
    "                    if(passed):\n",
    "                        written[conf] = True\n",
    "                        sdwriter.write(mol,conf)\n",
    "        except (KeyboardInterrupt, SystemExit):\n",
    "            raise                \n",
    "        except:\n",
    "            print(\"Exception occurred: \",sys.exc_info()[0])\n",
    "    else:\n",
    "        print(\"ERROR:\",smi)"
   ]
  },
  {
   "cell_type": "code",
   "execution_count": 7,
   "id": "a74b4522",
   "metadata": {},
   "outputs": [
    {
     "ename": "AttributeError",
     "evalue": "module 'string' has no attribute 'join'",
     "output_type": "error",
     "traceback": [
      "\u001b[0;31m---------------------------------------------------------------------------\u001b[0m",
      "\u001b[0;31mAttributeError\u001b[0m                            Traceback (most recent call last)",
      "\u001b[0;32m<ipython-input-7-c497a27f8a58>\u001b[0m in \u001b[0;36m<module>\u001b[0;34m\u001b[0m\n\u001b[1;32m      3\u001b[0m     \u001b[0mtoks\u001b[0m \u001b[0;34m=\u001b[0m \u001b[0mline\u001b[0m\u001b[0;34m.\u001b[0m\u001b[0msplit\u001b[0m\u001b[0;34m(\u001b[0m\u001b[0;34m)\u001b[0m\u001b[0;34m\u001b[0m\u001b[0;34m\u001b[0m\u001b[0m\n\u001b[1;32m      4\u001b[0m     \u001b[0msmi\u001b[0m \u001b[0;34m=\u001b[0m \u001b[0mtoks\u001b[0m\u001b[0;34m[\u001b[0m\u001b[0;36m0\u001b[0m\u001b[0;34m]\u001b[0m\u001b[0;34m\u001b[0m\u001b[0;34m\u001b[0m\u001b[0m\n\u001b[0;32m----> 5\u001b[0;31m     \u001b[0mname\u001b[0m \u001b[0;34m=\u001b[0m \u001b[0mstring\u001b[0m\u001b[0;34m.\u001b[0m\u001b[0mjoin\u001b[0m\u001b[0;34m(\u001b[0m\u001b[0mtoks\u001b[0m\u001b[0;34m[\u001b[0m\u001b[0;36m1\u001b[0m\u001b[0;34m:\u001b[0m\u001b[0;34m]\u001b[0m\u001b[0;34m)\u001b[0m\u001b[0;34m\u001b[0m\u001b[0;34m\u001b[0m\u001b[0m\n\u001b[0m\u001b[1;32m      6\u001b[0m     \u001b[0mmol\u001b[0m \u001b[0;34m=\u001b[0m \u001b[0mChem\u001b[0m\u001b[0;34m.\u001b[0m\u001b[0mMolFromSmiles\u001b[0m\u001b[0;34m(\u001b[0m\u001b[0msmi\u001b[0m\u001b[0;34m)\u001b[0m\u001b[0;34m\u001b[0m\u001b[0;34m\u001b[0m\u001b[0m\n",
      "\u001b[0;31mAttributeError\u001b[0m: module 'string' has no attribute 'join'"
     ]
    }
   ],
   "source": []
  },
  {
   "cell_type": "code",
   "execution_count": 10,
   "id": "06f299bc",
   "metadata": {},
   "outputs": [
    {
     "data": {
      "text/plain": [
       "['CC[C@H](C)NS(=O)(=O)C1=CC=C2N=C(NC3=CC=C(C)C=C3)N([C@@H](C)C(C)(C)C)C2=C1']"
      ]
     },
     "execution_count": 10,
     "metadata": {},
     "output_type": "execute_result"
    }
   ],
   "source": [
    "toks"
   ]
  },
  {
   "cell_type": "code",
   "execution_count": 26,
   "id": "6eba3df4",
   "metadata": {},
   "outputs": [
    {
     "ename": "ModuleNotFoundError",
     "evalue": "No module named 'openforcefield'",
     "output_type": "error",
     "traceback": [
      "\u001b[0;31m---------------------------------------------------------------------------\u001b[0m",
      "\u001b[0;31mModuleNotFoundError\u001b[0m                       Traceback (most recent call last)",
      "\u001b[0;32m<ipython-input-26-996d75cdc797>\u001b[0m in \u001b[0;36m<module>\u001b[0;34m\u001b[0m\n\u001b[0;32m----> 1\u001b[0;31m \u001b[0;32mfrom\u001b[0m \u001b[0mopenforcefield\u001b[0m\u001b[0;34m.\u001b[0m\u001b[0mtopology\u001b[0m \u001b[0;32mimport\u001b[0m \u001b[0mMolecule\u001b[0m\u001b[0;34m\u001b[0m\u001b[0;34m\u001b[0m\u001b[0m\n\u001b[0m\u001b[1;32m      2\u001b[0m \u001b[0;32mfrom\u001b[0m \u001b[0mopenmmforcefields\u001b[0m\u001b[0;34m.\u001b[0m\u001b[0mgenerators\u001b[0m \u001b[0;32mimport\u001b[0m \u001b[0mSystemGenerator\u001b[0m\u001b[0;34m\u001b[0m\u001b[0;34m\u001b[0m\u001b[0m\n",
      "\u001b[0;31mModuleNotFoundError\u001b[0m: No module named 'openforcefield'"
     ]
    }
   ],
   "source": [
    "from openforcefield.topology import Molecule\n",
    "from openmmforcefields.generators import SystemGenerator"
   ]
  },
  {
   "cell_type": "code",
   "execution_count": null,
   "id": "6ccab052",
   "metadata": {},
   "outputs": [],
   "source": []
  }
 ],
 "metadata": {
  "kernelspec": {
   "display_name": "Python 3",
   "language": "python",
   "name": "python3"
  },
  "language_info": {
   "codemirror_mode": {
    "name": "ipython",
    "version": 3
   },
   "file_extension": ".py",
   "mimetype": "text/x-python",
   "name": "python",
   "nbconvert_exporter": "python",
   "pygments_lexer": "ipython3",
   "version": "3.6.10"
  }
 },
 "nbformat": 4,
 "nbformat_minor": 5
}
