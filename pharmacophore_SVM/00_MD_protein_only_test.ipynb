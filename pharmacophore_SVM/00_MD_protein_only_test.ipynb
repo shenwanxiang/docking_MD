{
 "cells": [
  {
   "cell_type": "code",
   "execution_count": 1,
   "metadata": {},
   "outputs": [],
   "source": [
    "#! pip install nglview\n",
    "# /home/shenwanxiang/anaconda3/envs/tf2/bin/jupyter-nbextension enable nglview --py --sys-prefix\n",
    "#!pip install --upgrade MDAnalysis\n",
    "#conda install -c omnia pdbfixer"
   ]
  },
  {
   "cell_type": "code",
   "execution_count": 7,
   "metadata": {},
   "outputs": [],
   "source": [
    "#所用蛋白为1stp\n",
    "from pdbfixer import PDBFixer\n",
    "from simtk.openmm.app.pdbfile import PDBFile\n",
    "from simtk.openmm.app import ForceField,  Simulation, PME, HBonds, PDBReporter, StateDataReporter\n",
    "from simtk.openmm.app import forcefield\n",
    "from simtk.openmm import app, LangevinIntegrator\n",
    "from simtk.unit import nanometer, kelvin, picosecond, picoseconds\n",
    "from sys import stdout\n",
    "\n",
    "import nglview as nv\n",
    "import os"
   ]
  },
  {
   "cell_type": "code",
   "execution_count": 1,
   "metadata": {},
   "outputs": [
    {
     "name": "stderr",
     "output_type": "stream",
     "text": [
      "RDKit WARNING: [21:31:03] Enabling RDKit 2019.09.2 jupyter extensions\n"
     ]
    },
    {
     "ename": "ModuleNotFoundError",
     "evalue": "No module named 'openforcefield'",
     "output_type": "error",
     "traceback": [
      "\u001b[0;31m---------------------------------------------------------------------------\u001b[0m",
      "\u001b[0;31mModuleNotFoundError\u001b[0m                       Traceback (most recent call last)",
      "\u001b[0;32m<ipython-input-1-0ee8d5b9c02f>\u001b[0m in \u001b[0;36m<module>\u001b[0;34m\u001b[0m\n\u001b[1;32m      5\u001b[0m \u001b[0;32mfrom\u001b[0m \u001b[0msimtk\u001b[0m\u001b[0;34m.\u001b[0m\u001b[0mopenmm\u001b[0m\u001b[0;34m.\u001b[0m\u001b[0mapp\u001b[0m \u001b[0;32mimport\u001b[0m \u001b[0mPDBFile\u001b[0m\u001b[0;34m,\u001b[0m \u001b[0mSimulation\u001b[0m\u001b[0;34m,\u001b[0m \u001b[0mModeller\u001b[0m\u001b[0;34m,\u001b[0m \u001b[0mPDBReporter\u001b[0m\u001b[0;34m,\u001b[0m \u001b[0mStateDataReporter\u001b[0m\u001b[0;34m,\u001b[0m \u001b[0mDCDReporter\u001b[0m\u001b[0;34m\u001b[0m\u001b[0;34m\u001b[0m\u001b[0m\n\u001b[1;32m      6\u001b[0m \u001b[0;32mfrom\u001b[0m \u001b[0mrdkit\u001b[0m \u001b[0;32mimport\u001b[0m \u001b[0mChem\u001b[0m\u001b[0;34m\u001b[0m\u001b[0;34m\u001b[0m\u001b[0m\n\u001b[0;32m----> 7\u001b[0;31m \u001b[0;32mfrom\u001b[0m \u001b[0mopenforcefield\u001b[0m\u001b[0;34m.\u001b[0m\u001b[0mtopology\u001b[0m \u001b[0;32mimport\u001b[0m \u001b[0mMolecule\u001b[0m\u001b[0;34m\u001b[0m\u001b[0;34m\u001b[0m\u001b[0m\n\u001b[0m",
      "\u001b[0;31mModuleNotFoundError\u001b[0m: No module named 'openforcefield'"
     ]
    }
   ],
   "source": [
    "import sys, time\n",
    "import openmmforcefields\n",
    "from simtk import unit, openmm\n",
    "from simtk.openmm import app, Platform, LangevinIntegrator\n",
    "from simtk.openmm.app import PDBFile, Simulation, Modeller, PDBReporter, StateDataReporter, DCDReporter\n",
    "from rdkit import Chem\n",
    "from openforcefield.topology import Molecule"
   ]
  },
  {
   "cell_type": "code",
   "execution_count": null,
   "metadata": {},
   "outputs": [],
   "source": [
    "openmmforcefields."
   ]
  },
  {
   "cell_type": "code",
   "execution_count": null,
   "metadata": {},
   "outputs": [],
   "source": []
  },
  {
   "cell_type": "code",
   "execution_count": null,
   "metadata": {},
   "outputs": [],
   "source": []
  },
  {
   "cell_type": "code",
   "execution_count": 9,
   "metadata": {},
   "outputs": [
    {
     "ename": "AttributeError",
     "evalue": "module 'simtk' has no attribute '__version__'",
     "output_type": "error",
     "traceback": [
      "\u001b[0;31m---------------------------------------------------------------------------\u001b[0m",
      "\u001b[0;31mAttributeError\u001b[0m                            Traceback (most recent call last)",
      "\u001b[0;32m<ipython-input-9-e93d1d06447e>\u001b[0m in \u001b[0;36m<module>\u001b[0;34m\u001b[0m\n\u001b[0;32m----> 1\u001b[0;31m \u001b[0msimtk\u001b[0m\u001b[0;34m.\u001b[0m\u001b[0m__version__\u001b[0m\u001b[0;34m\u001b[0m\u001b[0;34m\u001b[0m\u001b[0m\n\u001b[0m",
      "\u001b[0;31mAttributeError\u001b[0m: module 'simtk' has no attribute '__version__'"
     ]
    }
   ],
   "source": [
    "simtk.__version__"
   ]
  },
  {
   "cell_type": "code",
   "execution_count": 11,
   "metadata": {},
   "outputs": [
    {
     "name": "stdout",
     "output_type": "stream",
     "text": [
      "WARNING: pip is being invoked by an old script wrapper. This will fail in a future version of pip.\n",
      "Please see https://github.com/pypa/pip/issues/5599 for advice on fixing the underlying issue.\n",
      "To avoid this problem you can invoke Python with '-m pip' instead of running pip directly.\n",
      "\u001b[31mERROR: Could not find a version that satisfies the requirement openmmforcefields==0.7.4\u001b[0m\n",
      "\u001b[31mERROR: No matching distribution found for openmmforcefields==0.7.4\u001b[0m\n",
      "\u001b[33mWARNING: You are using pip version 21.0.1; however, version 21.1.2 is available.\n",
      "You should consider upgrading via the '/home/shenwanxiang/anaconda3/envs/tf2/bin/python -m pip install --upgrade pip' command.\u001b[0m\n"
     ]
    }
   ],
   "source": [
    "! pip install openmmforcefields==0.7.4"
   ]
  },
  {
   "cell_type": "code",
   "execution_count": 3,
   "metadata": {},
   "outputs": [],
   "source": [
    "def fix_pdb(pdb_id):\n",
    "    path = os.getcwd()\n",
    "    if len(pdb_id) != 4:\n",
    "        print(\"Creating PDBFixer...\")\n",
    "        fixer = PDBFixer(pdb_id)\n",
    "        print(\"Finding missing residues...\")\n",
    "        fixer.findMissingResidues()\n",
    "\n",
    "        chains = list(fixer.topology.chains())\n",
    "        keys = fixer.missingResidues.keys()\n",
    "        for key in list(keys):\n",
    "            chain = chains[key[0]]\n",
    "            if key[1] == 0 or key[1] == len(list(chain.residues())):\n",
    "                print(\"ok\")\n",
    "                del fixer.missingResidues[key]\n",
    "\n",
    "        print(\"Finding nonstandard residues...\")\n",
    "        fixer.findNonstandardResidues()\n",
    "        print(\"Replacing nonstandard residues...\")\n",
    "        fixer.replaceNonstandardResidues()\n",
    "        print(\"Removing heterogens...\")\n",
    "        fixer.removeHeterogens(keepWater=True)\n",
    "\n",
    "        print(\"Finding missing atoms...\")\n",
    "        fixer.findMissingAtoms()\n",
    "        print(\"Adding missing atoms...\")\n",
    "        fixer.addMissingAtoms()\n",
    "        print(\"Adding missing hydrogens...\")\n",
    "        fixer.addMissingHydrogens(7)\n",
    "        print(\"Writing PDB file...\")\n",
    "\n",
    "        PDBFile.writeFile(\n",
    "            fixer.topology,\n",
    "            fixer.positions,\n",
    "            open(os.path.join(path, \"%s_fixed_pH_%s.pdb\" % (pdb_id.split('.')[0], 7)),\n",
    "                 \"w\"),\n",
    "            keepIds=True)\n",
    "        return \"%s_fixed_pH_%s.pdb\" % (pdb_id.split('.')[0], 7)"
   ]
  },
  {
   "cell_type": "code",
   "execution_count": 4,
   "metadata": {},
   "outputs": [
    {
     "name": "stdout",
     "output_type": "stream",
     "text": [
      "00_MD_protein_only_test.ipynb  1stp.pdb   output.pdb  \u001b[0m\u001b[01;34mSVM\u001b[0m/\n",
      "1stp_fixed_pH_7.pdb            input.pdb  readme.md\n"
     ]
    }
   ],
   "source": [
    "ls"
   ]
  },
  {
   "cell_type": "code",
   "execution_count": 5,
   "metadata": {},
   "outputs": [
    {
     "data": {
      "application/vnd.jupyter.widget-view+json": {
       "model_id": "071561788bdb4e19aa5300217e066f69",
       "version_major": 2,
       "version_minor": 0
      },
      "text/plain": [
       "NGLWidget()"
      ]
     },
     "metadata": {},
     "output_type": "display_data"
    }
   ],
   "source": [
    "view = nv.show_structure_file('./1stp.pdb')\n",
    "view"
   ]
  },
  {
   "cell_type": "code",
   "execution_count": 6,
   "metadata": {},
   "outputs": [
    {
     "name": "stdout",
     "output_type": "stream",
     "text": [
      "Creating PDBFixer...\n",
      "Finding missing residues...\n",
      "ok\n",
      "ok\n",
      "Finding nonstandard residues...\n",
      "Replacing nonstandard residues...\n",
      "Removing heterogens...\n",
      "Finding missing atoms...\n",
      "Adding missing atoms...\n",
      "Adding missing hydrogens...\n",
      "Writing PDB file...\n"
     ]
    }
   ],
   "source": [
    "new_pdb_name = fix_pdb('1stp.pdb')"
   ]
  },
  {
   "cell_type": "code",
   "execution_count": 19,
   "metadata": {},
   "outputs": [
    {
     "data": {
      "text/plain": [
       "<simtk.openmm.app.pdbfile.PDBFile at 0x7fc31bcff828>"
      ]
     },
     "execution_count": 19,
     "metadata": {},
     "output_type": "execute_result"
    }
   ],
   "source": [
    "#加载pdb文件，同样openmm也支持PDBx/mmCIF格式\n",
    "pdb = app.PDBFile('1stp_fixed_pH_7.pdb')\n",
    "pdb"
   ]
  },
  {
   "cell_type": "code",
   "execution_count": 20,
   "metadata": {},
   "outputs": [
    {
     "data": {
      "application/vnd.jupyter.widget-view+json": {
       "model_id": "b5c65de27b874f47a8d3995dafdc73c9",
       "version_major": 2,
       "version_minor": 0
      },
      "text/plain": [
       "NGLWidget()"
      ]
     },
     "metadata": {},
     "output_type": "display_data"
    }
   ],
   "source": [
    "nv.show_structure_file('./1stp_fixed_pH_7.pdb')"
   ]
  },
  {
   "cell_type": "code",
   "execution_count": 21,
   "metadata": {},
   "outputs": [
    {
     "name": "stdout",
     "output_type": "stream",
     "text": [
      "#\"Step\",\"Potential Energy (kJ/mole)\",\"Temperature (K)\"\n",
      "1000,-10679.407383238133,303.5574211544042\n",
      "2000,-10596.262851988133,304.8758687867087\n",
      "3000,-10736.559726988133,304.4199591183918\n",
      "4000,-10375.942539488133,301.2545330287171\n",
      "5000,-10787.462070738133,303.6179204317578\n",
      "6000,-10909.770664488133,296.62547342912495\n",
      "7000,-10979.544101988133,309.15981442302234\n",
      "8000,-10863.188633238133,293.6229570200309\n",
      "9000,-10748.731601988133,301.89200142243476\n",
      "10000,-11123.860508238133,303.71234820619463\n"
     ]
    }
   ],
   "source": [
    "#确定使用的力场，Amber14：amber14-all.xml；TIP3P-FB water model：amber14/tip3pfb.xml\n",
    "#使用XML files 来定义标准力场\n",
    "#可用力场从：http://docs.openmm.org/latest/userguide/application.html#force-fields 进行查看\n",
    "forcefield = ForceField('amber14-all.xml', 'amber14/tip3pfb.xml')\n",
    "#将力场与分子拓扑文件相组合来创建一个对此模拟系统的完整的数学描述\n",
    "#一些options：\n",
    "# 将粒子网格Ewald用于长距离静电相互作用（nonbondedMethod = PME）\n",
    "# 设置1nm截止值用于直接空间相互作用（nonbondedCutoff = 1 *纳米）\n",
    "# 并约束所有涉及氢原子的键的长度（约束条件 = HBonds）。\n",
    "system = forcefield.createSystem(pdb.topology, nonbondedMethod=PME,nonbondedCutoff=1*nanometer, constraints=HBonds)\n",
    "# 朗之万动力学 ( Langevin Dynamics ) ，模拟温度（300 K），摩擦系数（1 ps-1）和步长（0.004 ps）\n",
    "# 还可以使用许多其他集成方法。 例如，如果要在恒定能量而不是恒定温度下模拟系统，则可以使用VerletIntegrator。\n",
    "integrator = LangevinIntegrator(300*kelvin, 1/picosecond, 0.004*picoseconds)\n",
    "# 将topology，system，integrator进行组合，创建一个Simulation对象，并将其分配给一个名为Simulation的变量。\n",
    "#模拟对象管理运行模拟所涉及的所有过程\n",
    "simulation = Simulation(pdb.topology, system, integrator)\n",
    "#指定了用于模拟的初始原子位置。\n",
    "simulation.context.setPositions(pdb.positions)\n",
    "#进行局部能量最小化，建议在模拟开始前进行，减少应力\n",
    "simulation.minimizeEnergy()\n",
    "#创建一个“报告程序”以在模拟过程中输出结果， PDBReporter将结构写入PDB文件。\n",
    "#指定输出文件为output.pdb，并应每1000步写入一个结构。\n",
    "simulation.reporters.append(PDBReporter('output.pdb', 1000))\n",
    "#在模拟运行时获取常规状态报告，可以监视其进度\n",
    "#添加另一个报告程序，以每1000个时间步长打印一些基本信息：当前步长索引，系统的势能和温度。\n",
    "#将stdout（而不用引号）指定为输出文件，这意味着将结果在终端显示。\n",
    "#也可以给文件名（用引号引起来），将信息写到文件中。\n",
    "simulation.reporters.append(StateDataReporter(stdout, 1000, step=True,potentialEnergy=True, temperature=True))\n",
    "#开始模拟\n",
    "simulation.step(10000)\n",
    "#result"
   ]
  },
  {
   "cell_type": "code",
   "execution_count": 22,
   "metadata": {},
   "outputs": [
    {
     "data": {
      "text/plain": [
       "<Topology; 2 chains, 205 residues, 1996 atoms, 1934 bonds>"
      ]
     },
     "execution_count": 22,
     "metadata": {},
     "output_type": "execute_result"
    }
   ],
   "source": [
    "pdb.topology"
   ]
  },
  {
   "cell_type": "code",
   "execution_count": null,
   "metadata": {},
   "outputs": [],
   "source": []
  },
  {
   "cell_type": "code",
   "execution_count": null,
   "metadata": {},
   "outputs": [],
   "source": []
  },
  {
   "cell_type": "code",
   "execution_count": null,
   "metadata": {},
   "outputs": [],
   "source": []
  },
  {
   "cell_type": "code",
   "execution_count": null,
   "metadata": {},
   "outputs": [],
   "source": []
  },
  {
   "cell_type": "code",
   "execution_count": null,
   "metadata": {},
   "outputs": [],
   "source": []
  },
  {
   "cell_type": "code",
   "execution_count": null,
   "metadata": {},
   "outputs": [],
   "source": []
  },
  {
   "cell_type": "code",
   "execution_count": null,
   "metadata": {},
   "outputs": [],
   "source": [
    "# from simtk.openmm.app import *\n",
    "# from simtk.openmm import *\n",
    "# from simtk.unit import *\n",
    "# from sys import stdout\n",
    "\n",
    "# pdb = PDBFile('input.pdb')\n",
    "# forcefield = ForceField('amber14-all.xml', 'amber14/tip3pfb.xml')\n",
    "# system = forcefield.createSystem(pdb.topology, nonbondedMethod=PME,\n",
    "#         nonbondedCutoff=1*nanometer, constraints=HBonds)\n",
    "# integrator = LangevinMiddleIntegrator(300*kelvin, 1/picosecond, 0.004*picoseconds)\n",
    "# simulation = Simulation(pdb.topology, system, integrator)\n",
    "# simulation.context.setPositions(pdb.positions)\n",
    "# simulation.minimizeEnergy()\n",
    "# simulation.reporters.append(PDBReporter('output.pdb', 1000))\n",
    "# simulation.reporters.append(StateDataReporter(stdout, 1000, step=True,\n",
    "#         potentialEnergy=True, temperature=True))\n",
    "# simulation.step(10000)"
   ]
  },
  {
   "cell_type": "code",
   "execution_count": null,
   "metadata": {},
   "outputs": [],
   "source": []
  },
  {
   "cell_type": "code",
   "execution_count": null,
   "metadata": {},
   "outputs": [],
   "source": []
  },
  {
   "cell_type": "code",
   "execution_count": null,
   "metadata": {},
   "outputs": [],
   "source": []
  }
 ],
 "metadata": {
  "kernelspec": {
   "display_name": "Python 3",
   "language": "python",
   "name": "python3"
  },
  "language_info": {
   "codemirror_mode": {
    "name": "ipython",
    "version": 3
   },
   "file_extension": ".py",
   "mimetype": "text/x-python",
   "name": "python",
   "nbconvert_exporter": "python",
   "pygments_lexer": "ipython3",
   "version": "3.6.10"
  }
 },
 "nbformat": 4,
 "nbformat_minor": 4
}
