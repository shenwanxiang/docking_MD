{
 "cells": [
  {
   "cell_type": "code",
   "execution_count": 1,
   "id": "1e97c888",
   "metadata": {},
   "outputs": [
    {
     "name": "stdout",
     "output_type": "stream",
     "text": [
      "Archive:  ./docking_MD_materials.zip\n",
      "  inflating: docking_MD/BBR.pdb      \n",
      "  inflating: docking_MD/methods.docx  \n",
      "  inflating: docking_MD/PIO.pdb      \n",
      "  inflating: docking_MD/PPARg_BBR_processed_loop_refined.pdb  \n",
      "  inflating: docking_MD/PPARg_PIO_processed_loop_refined.pdb  \n",
      "  inflating: docking_MD/processed_complex.pdb  \n"
     ]
    }
   ],
   "source": [
    "! unzip ./docking_MD_materials.zip"
   ]
  },
  {
   "cell_type": "code",
   "execution_count": null,
   "id": "ff7d82d0",
   "metadata": {},
   "outputs": [],
   "source": []
  }
 ],
 "metadata": {
  "kernelspec": {
   "display_name": "Python 3",
   "language": "python",
   "name": "python3"
  },
  "language_info": {
   "codemirror_mode": {
    "name": "ipython",
    "version": 3
   },
   "file_extension": ".py",
   "mimetype": "text/x-python",
   "name": "python",
   "nbconvert_exporter": "python",
   "pygments_lexer": "ipython3",
   "version": "3.6.10"
  }
 },
 "nbformat": 4,
 "nbformat_minor": 5
}
